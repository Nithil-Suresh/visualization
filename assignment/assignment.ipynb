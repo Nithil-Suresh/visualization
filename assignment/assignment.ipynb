{
  "cells": [
    {
      "cell_type": "markdown",
      "id": "13ad028b-72b7-43ed-aa78-96fd4e518040",
      "metadata": {
        "id": "13ad028b-72b7-43ed-aa78-96fd4e518040"
      },
      "source": [
        "# Assignment: Exploratory Data Analysis\n",
        "### `! git clone https://github.com/ds4e/visualization`\n",
        "### Do One."
      ]
    },
    {
      "cell_type": "code",
      "source": [
        "! git clone https://github.com/ds4e/visualization"
      ],
      "metadata": {
        "colab": {
          "base_uri": "https://localhost:8080/"
        },
        "id": "6qUi2HsufiNs",
        "outputId": "5846ba81-4a28-47f2-e621-8021af01a2f0"
      },
      "id": "6qUi2HsufiNs",
      "execution_count": 4,
      "outputs": [
        {
          "output_type": "stream",
          "name": "stdout",
          "text": [
            "Cloning into 'visualization'...\n",
            "remote: Enumerating objects: 35, done.\u001b[K\n",
            "remote: Counting objects: 100% (5/5), done.\u001b[K\n",
            "remote: Compressing objects: 100% (3/3), done.\u001b[K\n",
            "remote: Total 35 (delta 3), reused 2 (delta 2), pack-reused 30 (from 1)\u001b[K\n",
            "Receiving objects: 100% (35/35), 7.16 MiB | 12.09 MiB/s, done.\n",
            "Resolving deltas: 100% (6/6), done.\n"
          ]
        }
      ]
    },
    {
      "cell_type": "markdown",
      "id": "c11bcd96-2834-41a4-80fe-d354b4277fd9",
      "metadata": {
        "id": "c11bcd96-2834-41a4-80fe-d354b4277fd9"
      },
      "source": [
        "**Q1.** This question provides some practice doing exploratory data analysis and visualization.\n",
        "\n",
        "The \"relevant\" variables for this question are:\n",
        "  - `level` - Level of institution (4-year, 2-year)\n",
        "  - `aid_value` - The average amount of student aid going to undergraduate recipients\n",
        "  - `control` - Public, Private not-for-profit, Private for-profit\n",
        "  - `grad_100_value` - percentage of first-time, full-time, degree-seeking undergraduates who complete a degree or certificate program within 100 percent of expected time (bachelor's-seeking group at 4-year institutions)\n",
        "\n",
        "1. Load the `./data/college_completion.csv` data with Pandas.\n",
        "2. What are are the dimensions of the data? How many observations are there? What are the variables included? Use `.head()` to examine the first few rows of data.\n",
        "3. Cross tabulate `control` and `level`. Describe the patterns you see.\n",
        "4. For `grad_100_value`, create a histogram, kernel density plot, boxplot, and statistical description.\n",
        "5. For `grad_100_value`, create a grouped kernel density plot by `control` and by `level`. Describe what you see. Use `groupby` and `.describe` to make grouped calculations of statistical descriptions of `grad_100_value` by `level` and `control`. Which institutions appear to have the best graduation rates?\n",
        "6. Create a new variable, `df['levelXcontrol']=df['level']+', '+df['control']` that interacts level and control. Make a grouped kernel density plot. Which institutions appear to have the best graduation rates?\n",
        "7. Make a kernel density plot of `aid_value`. Now group your graph by `level` and `control`. What explains the shape of the graph? Use `groupby` and `.describe` to make grouped calculations of statistical descriptions of `aid_value` by `level` and `control`.\n",
        "8. Make a scatterplot of `grad_100_value` by `aid_value`. Describe what you see. Now make the same plot, grouping by `level` and then `control`. Describe what you see. For which kinds of institutions does aid seem to increase graduation rates?"
      ]
    },
    {
      "cell_type": "markdown",
      "source": [
        "1. Load the `./data/college_completion.csv` data with Pandas."
      ],
      "metadata": {
        "id": "IlgTT3XZfugz"
      },
      "id": "IlgTT3XZfugz"
    },
    {
      "cell_type": "code",
      "source": [
        "import numpy as np # Import the numpy package into your workspace\n",
        "import matplotlib.pyplot as plt # Import matplotlib into your workspace\n",
        "import pandas as pd\n",
        "import os\n",
        "\n",
        "print(os.getcwd())\n",
        "\n",
        "new_directory = \"/content/visualization/assignment/\"\n",
        "os.chdir(new_directory)\n",
        "\n",
        "df = pd.read_csv('./data/college_completion.csv',low_memory=False)"
      ],
      "metadata": {
        "colab": {
          "base_uri": "https://localhost:8080/"
        },
        "id": "1ViLnlROfycf",
        "outputId": "1d65a48e-df3e-4124-c841-52777c8b4a0e"
      },
      "id": "1ViLnlROfycf",
      "execution_count": 8,
      "outputs": [
        {
          "output_type": "stream",
          "name": "stdout",
          "text": [
            "/content/visualization/assignment\n"
          ]
        }
      ]
    },
    {
      "cell_type": "markdown",
      "source": [
        "2. What are are the dimensions of the data? How many observations are there? What are the variables included? Use `.head()` to examine the first few rows of data."
      ],
      "metadata": {
        "id": "pMK23nq3gSo4"
      },
      "id": "pMK23nq3gSo4"
    },
    {
      "cell_type": "code",
      "source": [
        "df.shape"
      ],
      "metadata": {
        "colab": {
          "base_uri": "https://localhost:8080/"
        },
        "id": "yhuwx1V3gUaa",
        "outputId": "fd3b9d23-46f6-457b-95b4-7870e6fb0151"
      },
      "id": "yhuwx1V3gUaa",
      "execution_count": 10,
      "outputs": [
        {
          "output_type": "execute_result",
          "data": {
            "text/plain": [
              "(3798, 63)"
            ]
          },
          "metadata": {},
          "execution_count": 10
        }
      ]
    },
    {
      "cell_type": "code",
      "source": [
        "df.columns"
      ],
      "metadata": {
        "colab": {
          "base_uri": "https://localhost:8080/"
        },
        "id": "jF7I2PMBgxFJ",
        "outputId": "5670c3cb-2a05-4623-9463-d1ed7555b1c0"
      },
      "id": "jF7I2PMBgxFJ",
      "execution_count": 11,
      "outputs": [
        {
          "output_type": "execute_result",
          "data": {
            "text/plain": [
              "Index(['index', 'unitid', 'chronname', 'city', 'state', 'level', 'control',\n",
              "       'basic', 'hbcu', 'flagship', 'long_x', 'lat_y', 'site', 'student_count',\n",
              "       'awards_per_value', 'awards_per_state_value', 'awards_per_natl_value',\n",
              "       'exp_award_value', 'exp_award_state_value', 'exp_award_natl_value',\n",
              "       'exp_award_percentile', 'ft_pct', 'fte_value', 'fte_percentile',\n",
              "       'med_sat_value', 'med_sat_percentile', 'aid_value', 'aid_percentile',\n",
              "       'endow_value', 'endow_percentile', 'grad_100_value',\n",
              "       'grad_100_percentile', 'grad_150_value', 'grad_150_percentile',\n",
              "       'pell_value', 'pell_percentile', 'retain_value', 'retain_percentile',\n",
              "       'ft_fac_value', 'ft_fac_percentile', 'vsa_year',\n",
              "       'vsa_grad_after4_first', 'vsa_grad_elsewhere_after4_first',\n",
              "       'vsa_enroll_after4_first', 'vsa_enroll_elsewhere_after4_first',\n",
              "       'vsa_grad_after6_first', 'vsa_grad_elsewhere_after6_first',\n",
              "       'vsa_enroll_after6_first', 'vsa_enroll_elsewhere_after6_first',\n",
              "       'vsa_grad_after4_transfer', 'vsa_grad_elsewhere_after4_transfer',\n",
              "       'vsa_enroll_after4_transfer', 'vsa_enroll_elsewhere_after4_transfer',\n",
              "       'vsa_grad_after6_transfer', 'vsa_grad_elsewhere_after6_transfer',\n",
              "       'vsa_enroll_after6_transfer', 'vsa_enroll_elsewhere_after6_transfer',\n",
              "       'similar', 'state_sector_ct', 'carnegie_ct', 'counted_pct', 'nicknames',\n",
              "       'cohort_size'],\n",
              "      dtype='object')"
            ]
          },
          "metadata": {},
          "execution_count": 11
        }
      ]
    },
    {
      "cell_type": "code",
      "source": [
        "df.head()"
      ],
      "metadata": {
        "colab": {
          "base_uri": "https://localhost:8080/",
          "height": 533
        },
        "id": "9dyopsiLgzKq",
        "outputId": "55f36d92-b107-4ca4-ffbe-dbce85a5e0d9"
      },
      "id": "9dyopsiLgzKq",
      "execution_count": 12,
      "outputs": [
        {
          "output_type": "execute_result",
          "data": {
            "text/plain": [
              "   index  unitid                            chronname        city    state  \\\n",
              "0      0  100654               Alabama A&M University      Normal  Alabama   \n",
              "1      1  100663  University of Alabama at Birmingham  Birmingham  Alabama   \n",
              "2      2  100690                   Amridge University  Montgomery  Alabama   \n",
              "3      3  100706  University of Alabama at Huntsville  Huntsville  Alabama   \n",
              "4      4  100724             Alabama State University  Montgomery  Alabama   \n",
              "\n",
              "    level                 control  \\\n",
              "0  4-year                  Public   \n",
              "1  4-year                  Public   \n",
              "2  4-year  Private not-for-profit   \n",
              "3  4-year                  Public   \n",
              "4  4-year                  Public   \n",
              "\n",
              "                                               basic hbcu flagship  ...  \\\n",
              "0  Masters Colleges and Universities--larger prog...    X      NaN  ...   \n",
              "1  Research Universities--very high research acti...  NaN      NaN  ...   \n",
              "2            Baccalaureate Colleges--Arts & Sciences  NaN      NaN  ...   \n",
              "3  Research Universities--very high research acti...  NaN      NaN  ...   \n",
              "4  Masters Colleges and Universities--larger prog...    X      NaN  ...   \n",
              "\n",
              "   vsa_grad_after6_transfer  vsa_grad_elsewhere_after6_transfer  \\\n",
              "0                      36.4                                 5.6   \n",
              "1                       NaN                                 NaN   \n",
              "2                       NaN                                 NaN   \n",
              "3                       0.0                                 0.0   \n",
              "4                       NaN                                 NaN   \n",
              "\n",
              "  vsa_enroll_after6_transfer  vsa_enroll_elsewhere_after6_transfer  \\\n",
              "0                       17.2                                  11.1   \n",
              "1                        NaN                                   NaN   \n",
              "2                        NaN                                   NaN   \n",
              "3                        0.0                                   0.0   \n",
              "4                        NaN                                   NaN   \n",
              "\n",
              "                                             similar  state_sector_ct  \\\n",
              "0  232937|100724|405997|113607|139533|144005|2285...               13   \n",
              "1  196060|180461|201885|145600|209542|236939|1268...               13   \n",
              "2  217925|441511|205124|247825|197647|221856|1353...               16   \n",
              "3  232186|133881|196103|196413|207388|171128|1900...               13   \n",
              "4  100654|232937|242617|243197|144005|241739|2354...               13   \n",
              "\n",
              "   carnegie_ct  counted_pct  nicknames  cohort_size  \n",
              "0          386      99.7|07        NaN        882.0  \n",
              "1          106      56.0|07        UAB       1376.0  \n",
              "2          252     100.0|07        NaN          3.0  \n",
              "3          106      43.1|07        UAH        759.0  \n",
              "4          386      88.0|07        ASU       1351.0  \n",
              "\n",
              "[5 rows x 63 columns]"
            ],
            "text/html": [
              "\n",
              "  <div id=\"df-70b160b7-876e-4555-8845-086befbf7fed\" class=\"colab-df-container\">\n",
              "    <div>\n",
              "<style scoped>\n",
              "    .dataframe tbody tr th:only-of-type {\n",
              "        vertical-align: middle;\n",
              "    }\n",
              "\n",
              "    .dataframe tbody tr th {\n",
              "        vertical-align: top;\n",
              "    }\n",
              "\n",
              "    .dataframe thead th {\n",
              "        text-align: right;\n",
              "    }\n",
              "</style>\n",
              "<table border=\"1\" class=\"dataframe\">\n",
              "  <thead>\n",
              "    <tr style=\"text-align: right;\">\n",
              "      <th></th>\n",
              "      <th>index</th>\n",
              "      <th>unitid</th>\n",
              "      <th>chronname</th>\n",
              "      <th>city</th>\n",
              "      <th>state</th>\n",
              "      <th>level</th>\n",
              "      <th>control</th>\n",
              "      <th>basic</th>\n",
              "      <th>hbcu</th>\n",
              "      <th>flagship</th>\n",
              "      <th>...</th>\n",
              "      <th>vsa_grad_after6_transfer</th>\n",
              "      <th>vsa_grad_elsewhere_after6_transfer</th>\n",
              "      <th>vsa_enroll_after6_transfer</th>\n",
              "      <th>vsa_enroll_elsewhere_after6_transfer</th>\n",
              "      <th>similar</th>\n",
              "      <th>state_sector_ct</th>\n",
              "      <th>carnegie_ct</th>\n",
              "      <th>counted_pct</th>\n",
              "      <th>nicknames</th>\n",
              "      <th>cohort_size</th>\n",
              "    </tr>\n",
              "  </thead>\n",
              "  <tbody>\n",
              "    <tr>\n",
              "      <th>0</th>\n",
              "      <td>0</td>\n",
              "      <td>100654</td>\n",
              "      <td>Alabama A&amp;M University</td>\n",
              "      <td>Normal</td>\n",
              "      <td>Alabama</td>\n",
              "      <td>4-year</td>\n",
              "      <td>Public</td>\n",
              "      <td>Masters Colleges and Universities--larger prog...</td>\n",
              "      <td>X</td>\n",
              "      <td>NaN</td>\n",
              "      <td>...</td>\n",
              "      <td>36.4</td>\n",
              "      <td>5.6</td>\n",
              "      <td>17.2</td>\n",
              "      <td>11.1</td>\n",
              "      <td>232937|100724|405997|113607|139533|144005|2285...</td>\n",
              "      <td>13</td>\n",
              "      <td>386</td>\n",
              "      <td>99.7|07</td>\n",
              "      <td>NaN</td>\n",
              "      <td>882.0</td>\n",
              "    </tr>\n",
              "    <tr>\n",
              "      <th>1</th>\n",
              "      <td>1</td>\n",
              "      <td>100663</td>\n",
              "      <td>University of Alabama at Birmingham</td>\n",
              "      <td>Birmingham</td>\n",
              "      <td>Alabama</td>\n",
              "      <td>4-year</td>\n",
              "      <td>Public</td>\n",
              "      <td>Research Universities--very high research acti...</td>\n",
              "      <td>NaN</td>\n",
              "      <td>NaN</td>\n",
              "      <td>...</td>\n",
              "      <td>NaN</td>\n",
              "      <td>NaN</td>\n",
              "      <td>NaN</td>\n",
              "      <td>NaN</td>\n",
              "      <td>196060|180461|201885|145600|209542|236939|1268...</td>\n",
              "      <td>13</td>\n",
              "      <td>106</td>\n",
              "      <td>56.0|07</td>\n",
              "      <td>UAB</td>\n",
              "      <td>1376.0</td>\n",
              "    </tr>\n",
              "    <tr>\n",
              "      <th>2</th>\n",
              "      <td>2</td>\n",
              "      <td>100690</td>\n",
              "      <td>Amridge University</td>\n",
              "      <td>Montgomery</td>\n",
              "      <td>Alabama</td>\n",
              "      <td>4-year</td>\n",
              "      <td>Private not-for-profit</td>\n",
              "      <td>Baccalaureate Colleges--Arts &amp; Sciences</td>\n",
              "      <td>NaN</td>\n",
              "      <td>NaN</td>\n",
              "      <td>...</td>\n",
              "      <td>NaN</td>\n",
              "      <td>NaN</td>\n",
              "      <td>NaN</td>\n",
              "      <td>NaN</td>\n",
              "      <td>217925|441511|205124|247825|197647|221856|1353...</td>\n",
              "      <td>16</td>\n",
              "      <td>252</td>\n",
              "      <td>100.0|07</td>\n",
              "      <td>NaN</td>\n",
              "      <td>3.0</td>\n",
              "    </tr>\n",
              "    <tr>\n",
              "      <th>3</th>\n",
              "      <td>3</td>\n",
              "      <td>100706</td>\n",
              "      <td>University of Alabama at Huntsville</td>\n",
              "      <td>Huntsville</td>\n",
              "      <td>Alabama</td>\n",
              "      <td>4-year</td>\n",
              "      <td>Public</td>\n",
              "      <td>Research Universities--very high research acti...</td>\n",
              "      <td>NaN</td>\n",
              "      <td>NaN</td>\n",
              "      <td>...</td>\n",
              "      <td>0.0</td>\n",
              "      <td>0.0</td>\n",
              "      <td>0.0</td>\n",
              "      <td>0.0</td>\n",
              "      <td>232186|133881|196103|196413|207388|171128|1900...</td>\n",
              "      <td>13</td>\n",
              "      <td>106</td>\n",
              "      <td>43.1|07</td>\n",
              "      <td>UAH</td>\n",
              "      <td>759.0</td>\n",
              "    </tr>\n",
              "    <tr>\n",
              "      <th>4</th>\n",
              "      <td>4</td>\n",
              "      <td>100724</td>\n",
              "      <td>Alabama State University</td>\n",
              "      <td>Montgomery</td>\n",
              "      <td>Alabama</td>\n",
              "      <td>4-year</td>\n",
              "      <td>Public</td>\n",
              "      <td>Masters Colleges and Universities--larger prog...</td>\n",
              "      <td>X</td>\n",
              "      <td>NaN</td>\n",
              "      <td>...</td>\n",
              "      <td>NaN</td>\n",
              "      <td>NaN</td>\n",
              "      <td>NaN</td>\n",
              "      <td>NaN</td>\n",
              "      <td>100654|232937|242617|243197|144005|241739|2354...</td>\n",
              "      <td>13</td>\n",
              "      <td>386</td>\n",
              "      <td>88.0|07</td>\n",
              "      <td>ASU</td>\n",
              "      <td>1351.0</td>\n",
              "    </tr>\n",
              "  </tbody>\n",
              "</table>\n",
              "<p>5 rows × 63 columns</p>\n",
              "</div>\n",
              "    <div class=\"colab-df-buttons\">\n",
              "\n",
              "  <div class=\"colab-df-container\">\n",
              "    <button class=\"colab-df-convert\" onclick=\"convertToInteractive('df-70b160b7-876e-4555-8845-086befbf7fed')\"\n",
              "            title=\"Convert this dataframe to an interactive table.\"\n",
              "            style=\"display:none;\">\n",
              "\n",
              "  <svg xmlns=\"http://www.w3.org/2000/svg\" height=\"24px\" viewBox=\"0 -960 960 960\">\n",
              "    <path d=\"M120-120v-720h720v720H120Zm60-500h600v-160H180v160Zm220 220h160v-160H400v160Zm0 220h160v-160H400v160ZM180-400h160v-160H180v160Zm440 0h160v-160H620v160ZM180-180h160v-160H180v160Zm440 0h160v-160H620v160Z\"/>\n",
              "  </svg>\n",
              "    </button>\n",
              "\n",
              "  <style>\n",
              "    .colab-df-container {\n",
              "      display:flex;\n",
              "      gap: 12px;\n",
              "    }\n",
              "\n",
              "    .colab-df-convert {\n",
              "      background-color: #E8F0FE;\n",
              "      border: none;\n",
              "      border-radius: 50%;\n",
              "      cursor: pointer;\n",
              "      display: none;\n",
              "      fill: #1967D2;\n",
              "      height: 32px;\n",
              "      padding: 0 0 0 0;\n",
              "      width: 32px;\n",
              "    }\n",
              "\n",
              "    .colab-df-convert:hover {\n",
              "      background-color: #E2EBFA;\n",
              "      box-shadow: 0px 1px 2px rgba(60, 64, 67, 0.3), 0px 1px 3px 1px rgba(60, 64, 67, 0.15);\n",
              "      fill: #174EA6;\n",
              "    }\n",
              "\n",
              "    .colab-df-buttons div {\n",
              "      margin-bottom: 4px;\n",
              "    }\n",
              "\n",
              "    [theme=dark] .colab-df-convert {\n",
              "      background-color: #3B4455;\n",
              "      fill: #D2E3FC;\n",
              "    }\n",
              "\n",
              "    [theme=dark] .colab-df-convert:hover {\n",
              "      background-color: #434B5C;\n",
              "      box-shadow: 0px 1px 3px 1px rgba(0, 0, 0, 0.15);\n",
              "      filter: drop-shadow(0px 1px 2px rgba(0, 0, 0, 0.3));\n",
              "      fill: #FFFFFF;\n",
              "    }\n",
              "  </style>\n",
              "\n",
              "    <script>\n",
              "      const buttonEl =\n",
              "        document.querySelector('#df-70b160b7-876e-4555-8845-086befbf7fed button.colab-df-convert');\n",
              "      buttonEl.style.display =\n",
              "        google.colab.kernel.accessAllowed ? 'block' : 'none';\n",
              "\n",
              "      async function convertToInteractive(key) {\n",
              "        const element = document.querySelector('#df-70b160b7-876e-4555-8845-086befbf7fed');\n",
              "        const dataTable =\n",
              "          await google.colab.kernel.invokeFunction('convertToInteractive',\n",
              "                                                    [key], {});\n",
              "        if (!dataTable) return;\n",
              "\n",
              "        const docLinkHtml = 'Like what you see? Visit the ' +\n",
              "          '<a target=\"_blank\" href=https://colab.research.google.com/notebooks/data_table.ipynb>data table notebook</a>'\n",
              "          + ' to learn more about interactive tables.';\n",
              "        element.innerHTML = '';\n",
              "        dataTable['output_type'] = 'display_data';\n",
              "        await google.colab.output.renderOutput(dataTable, element);\n",
              "        const docLink = document.createElement('div');\n",
              "        docLink.innerHTML = docLinkHtml;\n",
              "        element.appendChild(docLink);\n",
              "      }\n",
              "    </script>\n",
              "  </div>\n",
              "\n",
              "\n",
              "<div id=\"df-9cd478fd-c273-4871-8d80-7591fda9394a\">\n",
              "  <button class=\"colab-df-quickchart\" onclick=\"quickchart('df-9cd478fd-c273-4871-8d80-7591fda9394a')\"\n",
              "            title=\"Suggest charts\"\n",
              "            style=\"display:none;\">\n",
              "\n",
              "<svg xmlns=\"http://www.w3.org/2000/svg\" height=\"24px\"viewBox=\"0 0 24 24\"\n",
              "     width=\"24px\">\n",
              "    <g>\n",
              "        <path d=\"M19 3H5c-1.1 0-2 .9-2 2v14c0 1.1.9 2 2 2h14c1.1 0 2-.9 2-2V5c0-1.1-.9-2-2-2zM9 17H7v-7h2v7zm4 0h-2V7h2v10zm4 0h-2v-4h2v4z\"/>\n",
              "    </g>\n",
              "</svg>\n",
              "  </button>\n",
              "\n",
              "<style>\n",
              "  .colab-df-quickchart {\n",
              "      --bg-color: #E8F0FE;\n",
              "      --fill-color: #1967D2;\n",
              "      --hover-bg-color: #E2EBFA;\n",
              "      --hover-fill-color: #174EA6;\n",
              "      --disabled-fill-color: #AAA;\n",
              "      --disabled-bg-color: #DDD;\n",
              "  }\n",
              "\n",
              "  [theme=dark] .colab-df-quickchart {\n",
              "      --bg-color: #3B4455;\n",
              "      --fill-color: #D2E3FC;\n",
              "      --hover-bg-color: #434B5C;\n",
              "      --hover-fill-color: #FFFFFF;\n",
              "      --disabled-bg-color: #3B4455;\n",
              "      --disabled-fill-color: #666;\n",
              "  }\n",
              "\n",
              "  .colab-df-quickchart {\n",
              "    background-color: var(--bg-color);\n",
              "    border: none;\n",
              "    border-radius: 50%;\n",
              "    cursor: pointer;\n",
              "    display: none;\n",
              "    fill: var(--fill-color);\n",
              "    height: 32px;\n",
              "    padding: 0;\n",
              "    width: 32px;\n",
              "  }\n",
              "\n",
              "  .colab-df-quickchart:hover {\n",
              "    background-color: var(--hover-bg-color);\n",
              "    box-shadow: 0 1px 2px rgba(60, 64, 67, 0.3), 0 1px 3px 1px rgba(60, 64, 67, 0.15);\n",
              "    fill: var(--button-hover-fill-color);\n",
              "  }\n",
              "\n",
              "  .colab-df-quickchart-complete:disabled,\n",
              "  .colab-df-quickchart-complete:disabled:hover {\n",
              "    background-color: var(--disabled-bg-color);\n",
              "    fill: var(--disabled-fill-color);\n",
              "    box-shadow: none;\n",
              "  }\n",
              "\n",
              "  .colab-df-spinner {\n",
              "    border: 2px solid var(--fill-color);\n",
              "    border-color: transparent;\n",
              "    border-bottom-color: var(--fill-color);\n",
              "    animation:\n",
              "      spin 1s steps(1) infinite;\n",
              "  }\n",
              "\n",
              "  @keyframes spin {\n",
              "    0% {\n",
              "      border-color: transparent;\n",
              "      border-bottom-color: var(--fill-color);\n",
              "      border-left-color: var(--fill-color);\n",
              "    }\n",
              "    20% {\n",
              "      border-color: transparent;\n",
              "      border-left-color: var(--fill-color);\n",
              "      border-top-color: var(--fill-color);\n",
              "    }\n",
              "    30% {\n",
              "      border-color: transparent;\n",
              "      border-left-color: var(--fill-color);\n",
              "      border-top-color: var(--fill-color);\n",
              "      border-right-color: var(--fill-color);\n",
              "    }\n",
              "    40% {\n",
              "      border-color: transparent;\n",
              "      border-right-color: var(--fill-color);\n",
              "      border-top-color: var(--fill-color);\n",
              "    }\n",
              "    60% {\n",
              "      border-color: transparent;\n",
              "      border-right-color: var(--fill-color);\n",
              "    }\n",
              "    80% {\n",
              "      border-color: transparent;\n",
              "      border-right-color: var(--fill-color);\n",
              "      border-bottom-color: var(--fill-color);\n",
              "    }\n",
              "    90% {\n",
              "      border-color: transparent;\n",
              "      border-bottom-color: var(--fill-color);\n",
              "    }\n",
              "  }\n",
              "</style>\n",
              "\n",
              "  <script>\n",
              "    async function quickchart(key) {\n",
              "      const quickchartButtonEl =\n",
              "        document.querySelector('#' + key + ' button');\n",
              "      quickchartButtonEl.disabled = true;  // To prevent multiple clicks.\n",
              "      quickchartButtonEl.classList.add('colab-df-spinner');\n",
              "      try {\n",
              "        const charts = await google.colab.kernel.invokeFunction(\n",
              "            'suggestCharts', [key], {});\n",
              "      } catch (error) {\n",
              "        console.error('Error during call to suggestCharts:', error);\n",
              "      }\n",
              "      quickchartButtonEl.classList.remove('colab-df-spinner');\n",
              "      quickchartButtonEl.classList.add('colab-df-quickchart-complete');\n",
              "    }\n",
              "    (() => {\n",
              "      let quickchartButtonEl =\n",
              "        document.querySelector('#df-9cd478fd-c273-4871-8d80-7591fda9394a button');\n",
              "      quickchartButtonEl.style.display =\n",
              "        google.colab.kernel.accessAllowed ? 'block' : 'none';\n",
              "    })();\n",
              "  </script>\n",
              "</div>\n",
              "\n",
              "    </div>\n",
              "  </div>\n"
            ],
            "application/vnd.google.colaboratory.intrinsic+json": {
              "type": "dataframe",
              "variable_name": "df"
            }
          },
          "metadata": {},
          "execution_count": 12
        }
      ]
    },
    {
      "cell_type": "markdown",
      "source": [
        "3. Cross tabulate `control` and `level`. Describe the patterns you see."
      ],
      "metadata": {
        "id": "iPMfy4vpg3Ry"
      },
      "id": "iPMfy4vpg3Ry"
    },
    {
      "cell_type": "code",
      "source": [
        "pd.crosstab(df['control'], df['level'])"
      ],
      "metadata": {
        "colab": {
          "base_uri": "https://localhost:8080/",
          "height": 175
        },
        "id": "HI3KPL0mg9FD",
        "outputId": "6275364f-7ce2-4e26-fa4b-53081555b0c2"
      },
      "id": "HI3KPL0mg9FD",
      "execution_count": 13,
      "outputs": [
        {
          "output_type": "execute_result",
          "data": {
            "text/plain": [
              "level                   2-year  4-year\n",
              "control                               \n",
              "Private for-profit         465     527\n",
              "Private not-for-profit      68    1180\n",
              "Public                     926     632"
            ],
            "text/html": [
              "\n",
              "  <div id=\"df-8cd8a9b1-1c2b-411f-8830-7c6cc20564ee\" class=\"colab-df-container\">\n",
              "    <div>\n",
              "<style scoped>\n",
              "    .dataframe tbody tr th:only-of-type {\n",
              "        vertical-align: middle;\n",
              "    }\n",
              "\n",
              "    .dataframe tbody tr th {\n",
              "        vertical-align: top;\n",
              "    }\n",
              "\n",
              "    .dataframe thead th {\n",
              "        text-align: right;\n",
              "    }\n",
              "</style>\n",
              "<table border=\"1\" class=\"dataframe\">\n",
              "  <thead>\n",
              "    <tr style=\"text-align: right;\">\n",
              "      <th>level</th>\n",
              "      <th>2-year</th>\n",
              "      <th>4-year</th>\n",
              "    </tr>\n",
              "    <tr>\n",
              "      <th>control</th>\n",
              "      <th></th>\n",
              "      <th></th>\n",
              "    </tr>\n",
              "  </thead>\n",
              "  <tbody>\n",
              "    <tr>\n",
              "      <th>Private for-profit</th>\n",
              "      <td>465</td>\n",
              "      <td>527</td>\n",
              "    </tr>\n",
              "    <tr>\n",
              "      <th>Private not-for-profit</th>\n",
              "      <td>68</td>\n",
              "      <td>1180</td>\n",
              "    </tr>\n",
              "    <tr>\n",
              "      <th>Public</th>\n",
              "      <td>926</td>\n",
              "      <td>632</td>\n",
              "    </tr>\n",
              "  </tbody>\n",
              "</table>\n",
              "</div>\n",
              "    <div class=\"colab-df-buttons\">\n",
              "\n",
              "  <div class=\"colab-df-container\">\n",
              "    <button class=\"colab-df-convert\" onclick=\"convertToInteractive('df-8cd8a9b1-1c2b-411f-8830-7c6cc20564ee')\"\n",
              "            title=\"Convert this dataframe to an interactive table.\"\n",
              "            style=\"display:none;\">\n",
              "\n",
              "  <svg xmlns=\"http://www.w3.org/2000/svg\" height=\"24px\" viewBox=\"0 -960 960 960\">\n",
              "    <path d=\"M120-120v-720h720v720H120Zm60-500h600v-160H180v160Zm220 220h160v-160H400v160Zm0 220h160v-160H400v160ZM180-400h160v-160H180v160Zm440 0h160v-160H620v160ZM180-180h160v-160H180v160Zm440 0h160v-160H620v160Z\"/>\n",
              "  </svg>\n",
              "    </button>\n",
              "\n",
              "  <style>\n",
              "    .colab-df-container {\n",
              "      display:flex;\n",
              "      gap: 12px;\n",
              "    }\n",
              "\n",
              "    .colab-df-convert {\n",
              "      background-color: #E8F0FE;\n",
              "      border: none;\n",
              "      border-radius: 50%;\n",
              "      cursor: pointer;\n",
              "      display: none;\n",
              "      fill: #1967D2;\n",
              "      height: 32px;\n",
              "      padding: 0 0 0 0;\n",
              "      width: 32px;\n",
              "    }\n",
              "\n",
              "    .colab-df-convert:hover {\n",
              "      background-color: #E2EBFA;\n",
              "      box-shadow: 0px 1px 2px rgba(60, 64, 67, 0.3), 0px 1px 3px 1px rgba(60, 64, 67, 0.15);\n",
              "      fill: #174EA6;\n",
              "    }\n",
              "\n",
              "    .colab-df-buttons div {\n",
              "      margin-bottom: 4px;\n",
              "    }\n",
              "\n",
              "    [theme=dark] .colab-df-convert {\n",
              "      background-color: #3B4455;\n",
              "      fill: #D2E3FC;\n",
              "    }\n",
              "\n",
              "    [theme=dark] .colab-df-convert:hover {\n",
              "      background-color: #434B5C;\n",
              "      box-shadow: 0px 1px 3px 1px rgba(0, 0, 0, 0.15);\n",
              "      filter: drop-shadow(0px 1px 2px rgba(0, 0, 0, 0.3));\n",
              "      fill: #FFFFFF;\n",
              "    }\n",
              "  </style>\n",
              "\n",
              "    <script>\n",
              "      const buttonEl =\n",
              "        document.querySelector('#df-8cd8a9b1-1c2b-411f-8830-7c6cc20564ee button.colab-df-convert');\n",
              "      buttonEl.style.display =\n",
              "        google.colab.kernel.accessAllowed ? 'block' : 'none';\n",
              "\n",
              "      async function convertToInteractive(key) {\n",
              "        const element = document.querySelector('#df-8cd8a9b1-1c2b-411f-8830-7c6cc20564ee');\n",
              "        const dataTable =\n",
              "          await google.colab.kernel.invokeFunction('convertToInteractive',\n",
              "                                                    [key], {});\n",
              "        if (!dataTable) return;\n",
              "\n",
              "        const docLinkHtml = 'Like what you see? Visit the ' +\n",
              "          '<a target=\"_blank\" href=https://colab.research.google.com/notebooks/data_table.ipynb>data table notebook</a>'\n",
              "          + ' to learn more about interactive tables.';\n",
              "        element.innerHTML = '';\n",
              "        dataTable['output_type'] = 'display_data';\n",
              "        await google.colab.output.renderOutput(dataTable, element);\n",
              "        const docLink = document.createElement('div');\n",
              "        docLink.innerHTML = docLinkHtml;\n",
              "        element.appendChild(docLink);\n",
              "      }\n",
              "    </script>\n",
              "  </div>\n",
              "\n",
              "\n",
              "<div id=\"df-f7c9790c-6f81-4953-a9ec-58c391b78e8d\">\n",
              "  <button class=\"colab-df-quickchart\" onclick=\"quickchart('df-f7c9790c-6f81-4953-a9ec-58c391b78e8d')\"\n",
              "            title=\"Suggest charts\"\n",
              "            style=\"display:none;\">\n",
              "\n",
              "<svg xmlns=\"http://www.w3.org/2000/svg\" height=\"24px\"viewBox=\"0 0 24 24\"\n",
              "     width=\"24px\">\n",
              "    <g>\n",
              "        <path d=\"M19 3H5c-1.1 0-2 .9-2 2v14c0 1.1.9 2 2 2h14c1.1 0 2-.9 2-2V5c0-1.1-.9-2-2-2zM9 17H7v-7h2v7zm4 0h-2V7h2v10zm4 0h-2v-4h2v4z\"/>\n",
              "    </g>\n",
              "</svg>\n",
              "  </button>\n",
              "\n",
              "<style>\n",
              "  .colab-df-quickchart {\n",
              "      --bg-color: #E8F0FE;\n",
              "      --fill-color: #1967D2;\n",
              "      --hover-bg-color: #E2EBFA;\n",
              "      --hover-fill-color: #174EA6;\n",
              "      --disabled-fill-color: #AAA;\n",
              "      --disabled-bg-color: #DDD;\n",
              "  }\n",
              "\n",
              "  [theme=dark] .colab-df-quickchart {\n",
              "      --bg-color: #3B4455;\n",
              "      --fill-color: #D2E3FC;\n",
              "      --hover-bg-color: #434B5C;\n",
              "      --hover-fill-color: #FFFFFF;\n",
              "      --disabled-bg-color: #3B4455;\n",
              "      --disabled-fill-color: #666;\n",
              "  }\n",
              "\n",
              "  .colab-df-quickchart {\n",
              "    background-color: var(--bg-color);\n",
              "    border: none;\n",
              "    border-radius: 50%;\n",
              "    cursor: pointer;\n",
              "    display: none;\n",
              "    fill: var(--fill-color);\n",
              "    height: 32px;\n",
              "    padding: 0;\n",
              "    width: 32px;\n",
              "  }\n",
              "\n",
              "  .colab-df-quickchart:hover {\n",
              "    background-color: var(--hover-bg-color);\n",
              "    box-shadow: 0 1px 2px rgba(60, 64, 67, 0.3), 0 1px 3px 1px rgba(60, 64, 67, 0.15);\n",
              "    fill: var(--button-hover-fill-color);\n",
              "  }\n",
              "\n",
              "  .colab-df-quickchart-complete:disabled,\n",
              "  .colab-df-quickchart-complete:disabled:hover {\n",
              "    background-color: var(--disabled-bg-color);\n",
              "    fill: var(--disabled-fill-color);\n",
              "    box-shadow: none;\n",
              "  }\n",
              "\n",
              "  .colab-df-spinner {\n",
              "    border: 2px solid var(--fill-color);\n",
              "    border-color: transparent;\n",
              "    border-bottom-color: var(--fill-color);\n",
              "    animation:\n",
              "      spin 1s steps(1) infinite;\n",
              "  }\n",
              "\n",
              "  @keyframes spin {\n",
              "    0% {\n",
              "      border-color: transparent;\n",
              "      border-bottom-color: var(--fill-color);\n",
              "      border-left-color: var(--fill-color);\n",
              "    }\n",
              "    20% {\n",
              "      border-color: transparent;\n",
              "      border-left-color: var(--fill-color);\n",
              "      border-top-color: var(--fill-color);\n",
              "    }\n",
              "    30% {\n",
              "      border-color: transparent;\n",
              "      border-left-color: var(--fill-color);\n",
              "      border-top-color: var(--fill-color);\n",
              "      border-right-color: var(--fill-color);\n",
              "    }\n",
              "    40% {\n",
              "      border-color: transparent;\n",
              "      border-right-color: var(--fill-color);\n",
              "      border-top-color: var(--fill-color);\n",
              "    }\n",
              "    60% {\n",
              "      border-color: transparent;\n",
              "      border-right-color: var(--fill-color);\n",
              "    }\n",
              "    80% {\n",
              "      border-color: transparent;\n",
              "      border-right-color: var(--fill-color);\n",
              "      border-bottom-color: var(--fill-color);\n",
              "    }\n",
              "    90% {\n",
              "      border-color: transparent;\n",
              "      border-bottom-color: var(--fill-color);\n",
              "    }\n",
              "  }\n",
              "</style>\n",
              "\n",
              "  <script>\n",
              "    async function quickchart(key) {\n",
              "      const quickchartButtonEl =\n",
              "        document.querySelector('#' + key + ' button');\n",
              "      quickchartButtonEl.disabled = true;  // To prevent multiple clicks.\n",
              "      quickchartButtonEl.classList.add('colab-df-spinner');\n",
              "      try {\n",
              "        const charts = await google.colab.kernel.invokeFunction(\n",
              "            'suggestCharts', [key], {});\n",
              "      } catch (error) {\n",
              "        console.error('Error during call to suggestCharts:', error);\n",
              "      }\n",
              "      quickchartButtonEl.classList.remove('colab-df-spinner');\n",
              "      quickchartButtonEl.classList.add('colab-df-quickchart-complete');\n",
              "    }\n",
              "    (() => {\n",
              "      let quickchartButtonEl =\n",
              "        document.querySelector('#df-f7c9790c-6f81-4953-a9ec-58c391b78e8d button');\n",
              "      quickchartButtonEl.style.display =\n",
              "        google.colab.kernel.accessAllowed ? 'block' : 'none';\n",
              "    })();\n",
              "  </script>\n",
              "</div>\n",
              "\n",
              "    </div>\n",
              "  </div>\n"
            ],
            "application/vnd.google.colaboratory.intrinsic+json": {
              "type": "dataframe",
              "summary": "{\n  \"name\": \"pd\",\n  \"rows\": 3,\n  \"fields\": [\n    {\n      \"column\": \"control\",\n      \"properties\": {\n        \"dtype\": \"string\",\n        \"num_unique_values\": 3,\n        \"samples\": [\n          \"Private for-profit\",\n          \"Private not-for-profit\",\n          \"Public\"\n        ],\n        \"semantic_type\": \"\",\n        \"description\": \"\"\n      }\n    },\n    {\n      \"column\": \"2-year\",\n      \"properties\": {\n        \"dtype\": \"number\",\n        \"std\": 429,\n        \"min\": 68,\n        \"max\": 926,\n        \"num_unique_values\": 3,\n        \"samples\": [\n          465,\n          68,\n          926\n        ],\n        \"semantic_type\": \"\",\n        \"description\": \"\"\n      }\n    },\n    {\n      \"column\": \"4-year\",\n      \"properties\": {\n        \"dtype\": \"number\",\n        \"std\": 350,\n        \"min\": 527,\n        \"max\": 1180,\n        \"num_unique_values\": 3,\n        \"samples\": [\n          527,\n          1180,\n          632\n        ],\n        \"semantic_type\": \"\",\n        \"description\": \"\"\n      }\n    }\n  ]\n}"
            }
          },
          "metadata": {},
          "execution_count": 13
        }
      ]
    },
    {
      "cell_type": "markdown",
      "source": [
        "4. For `grad_100_value`, create a histogram, kernel density plot, boxplot, and statistical description."
      ],
      "metadata": {
        "id": "BNjS57FAhDl_"
      },
      "id": "BNjS57FAhDl_"
    },
    {
      "cell_type": "code",
      "source": [
        "df['grad_100_value'].hist()"
      ],
      "metadata": {
        "colab": {
          "base_uri": "https://localhost:8080/",
          "height": 448
        },
        "id": "k8c2yDJzhP1U",
        "outputId": "623e125c-8d21-4e78-9cf7-f6cf1a8aa754"
      },
      "id": "k8c2yDJzhP1U",
      "execution_count": 14,
      "outputs": [
        {
          "output_type": "execute_result",
          "data": {
            "text/plain": [
              "<Axes: >"
            ]
          },
          "metadata": {},
          "execution_count": 14
        },
        {
          "output_type": "display_data",
          "data": {
            "text/plain": [
              "<Figure size 640x480 with 1 Axes>"
            ],
            "image/png": "[encoded data removed]"
          },
          "metadata": {}
        }
      ]
    },
    {
      "cell_type": "code",
      "source": [
        "import seaborn as sns\n",
        "\n",
        "x = df['grad_100_value']\n",
        "sns.kdeplot(x)"
      ],
      "metadata": {
        "colab": {
          "base_uri": "https://localhost:8080/",
          "height": 468
        },
        "id": "noThgL8KloDS",
        "outputId": "ebc87611-4338-494e-84f4-b844ee5d1dd4"
      },
      "id": "noThgL8KloDS",
      "execution_count": 20,
      "outputs": [
        {
          "output_type": "execute_result",
          "data": {
            "text/plain": [
              "<Axes: xlabel='grad_100_value', ylabel='Density'>"
            ]
          },
          "metadata": {},
          "execution_count": 20
        },
        {
          "output_type": "display_data",
          "data": {
            "text/plain": [
              "<Figure size 640x480 with 1 Axes>"
            ],
            "image/png": "[encoded data removed]"
          },
          "metadata": {}
        }
      ]
    },
    {
      "cell_type": "code",
      "source": [
        "x.plot(kind='box')"
      ],
      "metadata": {
        "colab": {
          "base_uri": "https://localhost:8080/",
          "height": 448
        },
        "id": "XPDQ7kiPl5qi",
        "outputId": "f15b7f50-cb97-4527-d43f-b04fdc815fb9"
      },
      "id": "XPDQ7kiPl5qi",
      "execution_count": 25,
      "outputs": [
        {
          "output_type": "execute_result",
          "data": {
            "text/plain": [
              "<Axes: >"
            ]
          },
          "metadata": {},
          "execution_count": 25
        },
        {
          "output_type": "display_data",
          "data": {
            "text/plain": [
              "<Figure size 640x480 with 1 Axes>"
            ],
            "image/png": "[encoded data removed]"
          },
          "metadata": {}
        }
      ]
    },
    {
      "cell_type": "code",
      "source": [
        "df['grad_100_value'].describe()"
      ],
      "metadata": {
        "colab": {
          "base_uri": "https://localhost:8080/",
          "height": 335
        },
        "id": "Q7aBPQV0mlRv",
        "outputId": "7b8cfc68-6d28-4b83-d852-e843daa6fb07"
      },
      "id": "Q7aBPQV0mlRv",
      "execution_count": 26,
      "outputs": [
        {
          "output_type": "execute_result",
          "data": {
            "text/plain": [
              "count    3467.000000\n",
              "mean       28.364465\n",
              "std        23.312730\n",
              "min         0.000000\n",
              "25%         9.000000\n",
              "50%        22.500000\n",
              "75%        43.650000\n",
              "max       100.000000\n",
              "Name: grad_100_value, dtype: float64"
            ],
            "text/html": [
              "<div>\n",
              "<style scoped>\n",
              "    .dataframe tbody tr th:only-of-type {\n",
              "        vertical-align: middle;\n",
              "    }\n",
              "\n",
              "    .dataframe tbody tr th {\n",
              "        vertical-align: top;\n",
              "    }\n",
              "\n",
              "    .dataframe thead th {\n",
              "        text-align: right;\n",
              "    }\n",
              "</style>\n",
              "<table border=\"1\" class=\"dataframe\">\n",
              "  <thead>\n",
              "    <tr style=\"text-align: right;\">\n",
              "      <th></th>\n",
              "      <th>grad_100_value</th>\n",
              "    </tr>\n",
              "  </thead>\n",
              "  <tbody>\n",
              "    <tr>\n",
              "      <th>count</th>\n",
              "      <td>3467.000000</td>\n",
              "    </tr>\n",
              "    <tr>\n",
              "      <th>mean</th>\n",
              "      <td>28.364465</td>\n",
              "    </tr>\n",
              "    <tr>\n",
              "      <th>std</th>\n",
              "      <td>23.312730</td>\n",
              "    </tr>\n",
              "    <tr>\n",
              "      <th>min</th>\n",
              "      <td>0.000000</td>\n",
              "    </tr>\n",
              "    <tr>\n",
              "      <th>25%</th>\n",
              "      <td>9.000000</td>\n",
              "    </tr>\n",
              "    <tr>\n",
              "      <th>50%</th>\n",
              "      <td>22.500000</td>\n",
              "    </tr>\n",
              "    <tr>\n",
              "      <th>75%</th>\n",
              "      <td>43.650000</td>\n",
              "    </tr>\n",
              "    <tr>\n",
              "      <th>max</th>\n",
              "      <td>100.000000</td>\n",
              "    </tr>\n",
              "  </tbody>\n",
              "</table>\n",
              "</div><br><label><b>dtype:</b> float64</label>"
            ]
          },
          "metadata": {},
          "execution_count": 26
        }
      ]
    },
    {
      "cell_type": "markdown",
      "source": [
        "5. For `grad_100_value`, create a grouped kernel density plot by `control` and by `level`. Describe what you see. Use `groupby` and `.describe` to make grouped calculations of statistical descriptions of `grad_100_value` by `level` and `control`. Which institutions appear to have the best graduation rates?\n",
        "\n"
      ],
      "metadata": {
        "id": "y0lasPLZms6I"
      },
      "id": "y0lasPLZms6I"
    },
    {
      "cell_type": "code",
      "source": [
        "conditioning = 'control'\n",
        "var = 'grad_100_value'\n",
        "sns.kdeplot( data=df, x=var, hue=conditioning, common_norm=False).set(title='Grouped KDE Plot for Control')"
      ],
      "metadata": {
        "id": "1KsVfZM_mzkD",
        "outputId": "09e7ba39-0951-47a2-c873-261bd07aa1cd",
        "colab": {
          "base_uri": "https://localhost:8080/",
          "height": 490
        }
      },
      "id": "1KsVfZM_mzkD",
      "execution_count": 27,
      "outputs": [
        {
          "output_type": "execute_result",
          "data": {
            "text/plain": [
              "[Text(0.5, 1.0, 'Grouped KDE Plot for Control')]"
            ]
          },
          "metadata": {},
          "execution_count": 27
        },
        {
          "output_type": "display_data",
          "data": {
            "text/plain": [
              "<Figure size 640x480 with 1 Axes>"
            ],
            "image/png": "[encoded data removed]"
          },
          "metadata": {}
        }
      ]
    },
    {
      "cell_type": "code",
      "source": [
        "conditioning = 'level'\n",
        "var = 'grad_100_value'\n",
        "sns.kdeplot( data=df, x=var, hue=conditioning, common_norm=False).set(title='Grouped KDE Plot for Control')"
      ],
      "metadata": {
        "id": "vA3MYmyYnQ5q",
        "outputId": "d87525e7-5af4-4e7e-9312-e1fb606e47bc",
        "colab": {
          "base_uri": "https://localhost:8080/",
          "height": 490
        }
      },
      "id": "vA3MYmyYnQ5q",
      "execution_count": 28,
      "outputs": [
        {
          "output_type": "execute_result",
          "data": {
            "text/plain": [
              "[Text(0.5, 1.0, 'Grouped KDE Plot for Control')]"
            ]
          },
          "metadata": {},
          "execution_count": 28
        },
        {
          "output_type": "display_data",
          "data": {
            "text/plain": [
              "<Figure size 640x480 with 1 Axes>"
            ],
            "image/png": "[encoded data removed]"
          },
          "metadata": {}
        }
      ]
    },
    {
      "cell_type": "markdown",
      "id": "55e54a37-63fb-4df9-af65-81ee53ae00fe",
      "metadata": {
        "id": "55e54a37-63fb-4df9-af65-81ee53ae00fe"
      },
      "source": [
        "**Q2.** Go to https://data.cms.gov/search.\n",
        "1. Pick a dataset about something you are interested in. Download the data and data dictionary. If you really can't decide, you can always use this one: https://data.cms.gov/medicare-current-beneficiary-survey-mcbs/medicare-current-beneficiary-survey-data\n",
        "3. Does the data dictionary document how missings are handled? For categorical variables, does it describe the possible values and missing value codes? For the numeric variables, does it describe how missing values are handled? Summarize your opinion of the data dictionary.\n",
        "4. Pick out a few interesting variables, and explain why you find them jointly interesting. Clean those variables, documenting your choices by commenting in the code or in a markdown chunk in a notebook.\n",
        "5. For the variables you select, make a boxplot for each numeric variable and a bar graph for each categorical variable. Do you see any outliers?\n",
        "6. Create a histogram or kernel density plot, and explain what you see. Do the results require any transformations to rescale them?\n",
        "7. Create a scatter plot, and describe the relationship you see.\n",
        "8. Create a table (cross tabulation, variance-covariance, or a `.describe()` five-number summary), and explain what you see."
      ]
    },
    {
      "cell_type": "markdown",
      "id": "21522e42",
      "metadata": {
        "id": "21522e42"
      },
      "source": [
        "**Q3.** This is a case study about understanding and visualizing risk over time, involving a dataset with information about breast cancer mortality rates over time, conditional on different treatments.\n",
        "\n",
        "1. Load the `./data/Breast Cancer METABRIC.csv` dataset. It has a bunch of interesting variables, but the mains of interest for this question are `Overall Survival (Months)`, which is  and `Overall Survival Survival Status`, which records whether the patient is Alive or Deceased.\n",
        "2. Make one kernel density plot of `Overall Survival (Months)`, and a second conditional on `Overall Survival Status`. Interpret these plots. What patterns do you see?\n",
        "\n",
        "3. The **hazard rate** gives the instantaneous risk of an event occurring, given that it hasn't already happened. It is defined as\n",
        "$$\n",
        "h(t) = \\dfrac{f(t)}{1-F(t)}\n",
        "$$\n",
        "where $F(t)$ is the distribution of arrival times and $f(t)=F'(t)$ is the density of arrival times. Roughly, conditional on $T \\ge t$, what is the probability that $T=t$? The cumulative hazard is given by\n",
        "$$\n",
        "H(t) = \\int_0^t h(z) dz.\n",
        "$$\n",
        "The following function computes the hazard rate and cumulative hazard using something called the Nelson-Ahlen estimator. Run your data through it. Interpret the plots for the hazard rate and cumulative hazard rate. What patterns do you see?\n",
        "\n",
        "```\n",
        "def hazard(df):\n",
        "    \"\"\" Compute cumulative hazard rate using Nelson-Ahlen estimator. \"\"\"\n",
        "    at_risk = df.shape[0]\n",
        "    arrivals = df['survival'].sort_values().dropna().tolist()\n",
        "    hazard_rate = []\n",
        "    times = []\n",
        "    for t in arrivals:\n",
        "        select = (df['survival']==t)*(df['Overall Survival Status']=='Deceased')\n",
        "        deaths_t = df[select].shape[0]\n",
        "        if deaths_t > 0:\n",
        "            hazard_rate.append(deaths_t/at_risk)\n",
        "            times.append(t)\n",
        "            at_risk -= deaths_t\n",
        "    cumulative_hazard = np.cumsum(hazard_rate)\n",
        "    return cumulative_hazard, times, hazard_rate\n",
        "```\n",
        "\n",
        "4. There are lots of additional categorical variables in the METABRIC dataset. Pick a categorical variable, and plot the hazard rate and cumulative hazard for each category. Do you see any interesting patterns? Is one group more likely to survive, or do their hazard rates cross over time?\n",
        "5. These plots are very helpful for understanding how patients respond to treatment. Discuss how they might be used in practice, to help doctors and patients make decisions about care."
      ]
    },
    {
      "cell_type": "markdown",
      "id": "ea89b847",
      "metadata": {
        "id": "ea89b847"
      },
      "source": [
        "**Q4.** Write your own function to make a kernel density plot.\n",
        "\n",
        "- The user should pass in a Pandas series or Numpy array.\n",
        "- The default kernel should be Gaussian, but include the uniform/bump and Epanechnikov as alternatives.\n",
        "- The default bandwidth should be the Silverman plug-in, but allow the user to specify an alternative.\n",
        "- You can use Matplotlib or Seaborn's `.lineplot`, but not an existing function that creates kernel density plots.\n",
        "\n",
        "You will have to make a lot of choices and experiment with getting errors. Embrace the challenge and track your choices in the comments in your code.\n",
        "\n",
        "Use a data set from class to show that your function works, and compare it with the Seaborn `kdeplot`.\n",
        "\n",
        "We covered the Gaussian,\n",
        "$$\n",
        "k(z) = \\dfrac{1}{\\sqrt{2\\pi}}e^{-z^2/2}\n",
        "$$\n",
        "and uniform\n",
        "$$\n",
        "k(z) = \\begin{cases}\n",
        "\\frac{1}{2}, & |z| \\le 1 \\\\\n",
        "0, & |z|>1\n",
        "\\end{cases}\n",
        "$$\n",
        "kernels in class, but the Epanechnikov kernel is\n",
        "$$\n",
        "k(z) = \\begin{cases}\n",
        "\\frac{3}{4} (1-z^2), & |z| \\le 1 \\\\\n",
        "0, & |z|>1.\n",
        "\\end{cases}\n",
        "$$\n",
        "\n",
        "In order to make your code run reasonably quickly, consider using the `pdist` or `cdist` functions from SciPy to make distance calculations for arrays of points. The other leading alternative is to thoughtfully use NumPy's broadcasting features. Writing `for` loops will be slow, but that's fine."
      ]
    }
  ],
  "metadata": {
    "colab": {
      "provenance": []
    },
    "kernelspec": {
      "display_name": "base",
      "language": "python",
      "name": "python3"
    },
    "language_info": {
      "codemirror_mode": {
        "name": "ipython",
        "version": 3
      },
      "file_extension": ".py",
      "mimetype": "text/x-python",
      "name": "python",
      "nbconvert_exporter": "python",
      "pygments_lexer": "ipython3",
      "version": "3.12.2"
    }
  },
  "nbformat": 4,
  "nbformat_minor": 5
}